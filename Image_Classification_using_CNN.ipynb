{
  "cells": [
    {
      "cell_type": "markdown",
      "metadata": {
        "id": "hGdCN-3UakDm"
      },
      "source": [
        "<h3>1. Import module yang dibutuhkan</h3>"
      ]
    },
    {
      "cell_type": "code",
      "execution_count": 1,
      "metadata": {
        "id": "gUkLmt3TakDs"
      },
      "outputs": [],
      "source": [
        "from sklearn.model_selection import train_test_split\n",
        "from sklearn.preprocessing import LabelEncoder\n",
        "from sklearn.metrics import classification_report\n",
        "from tensorflow.keras.models import Sequential\n",
        "from tensorflow.keras.layers import InputLayer, Flatten, Dense, Conv2D, MaxPool2D, Dropout\n",
        "from tensorflow.keras.optimizers import Adam\n",
        "import numpy as np\n",
        "import cv2\n",
        "from google.colab.patches import cv2_imshow\n",
        "import glob\n",
        "import matplotlib.pyplot as plt"
      ]
    },
    {
      "cell_type": "markdown",
      "metadata": {
        "id": "i4ArY1bLakDw"
      },
      "source": [
        "<h3>2. Load Dataset</h3>"
      ]
    },
    {
      "cell_type": "code",
      "execution_count": 2,
      "metadata": {
        "id": "ROQ43cmUakDw"
      },
      "outputs": [],
      "source": [
        "imagePaths = 'dataset/Tumbuhan/'\n",
        "label_list = ['Seledri', 'Sirih']\n",
        "data = []\n",
        "labels = []"
      ]
    },
    {
      "cell_type": "code",
      "execution_count": 3,
      "metadata": {
        "id": "BKbNPGxQakDx"
      },
      "outputs": [],
      "source": [
        "for label in label_list:\n",
        "    for imagePath in glob.glob(imagePaths+label+'/*.jpg'):\n",
        "        #print(imagePath)\n",
        "        image = cv2.imread(imagePath)\n",
        "        image = cv2.resize(image, (32, 32))\n",
        "        data.append(image)\n",
        "        labels.append(label)"
      ]
    },
    {
      "cell_type": "code",
      "execution_count": 4,
      "metadata": {
        "colab": {
          "base_uri": "https://localhost:8080/"
        },
        "id": "CNEbHyJMakDy",
        "outputId": "5da62ea6-3814-4ec7-837b-a791e8a33837"
      },
      "outputs": [
        {
          "data": {
            "text/plain": [
              "(100, 32, 32, 3)"
            ]
          },
          "execution_count": 4,
          "metadata": {},
          "output_type": "execute_result"
        }
      ],
      "source": [
        "np.array(data).shape"
      ]
    },
    {
      "cell_type": "markdown",
      "metadata": {
        "id": "cg1pP24WakDz"
      },
      "source": [
        "<h3>3. Data Preprocessing</h3>"
      ]
    },
    {
      "cell_type": "code",
      "execution_count": 5,
      "metadata": {
        "id": "9cobOQaMakD0"
      },
      "outputs": [],
      "source": [
        "# ubah type data dari list menjadi array\n",
        "# ubah nilai dari tiap pixel menjadi range [0..1]\n",
        "data = np.array(data, dtype='float') / 255.0\n",
        "labels = np.array(labels)"
      ]
    },
    {
      "cell_type": "code",
      "execution_count": 6,
      "metadata": {
        "colab": {
          "base_uri": "https://localhost:8080/"
        },
        "id": "-I4fp-pqakD1",
        "outputId": "2cc56bdf-e6ec-4779-e058-7b6118bb1dd5"
      },
      "outputs": [
        {
          "name": "stdout",
          "output_type": "stream",
          "text": [
            "['Seledri' 'Seledri' 'Seledri' 'Seledri' 'Seledri' 'Seledri' 'Seledri'\n",
            " 'Seledri' 'Seledri' 'Seledri' 'Seledri' 'Seledri' 'Seledri' 'Seledri'\n",
            " 'Seledri' 'Seledri' 'Seledri' 'Seledri' 'Seledri' 'Seledri' 'Seledri'\n",
            " 'Seledri' 'Seledri' 'Seledri' 'Seledri' 'Seledri' 'Seledri' 'Seledri'\n",
            " 'Seledri' 'Seledri' 'Seledri' 'Seledri' 'Seledri' 'Seledri' 'Seledri'\n",
            " 'Seledri' 'Seledri' 'Seledri' 'Seledri' 'Seledri' 'Seledri' 'Seledri'\n",
            " 'Seledri' 'Seledri' 'Seledri' 'Seledri' 'Seledri' 'Seledri' 'Seledri'\n",
            " 'Seledri' 'Sirih' 'Sirih' 'Sirih' 'Sirih' 'Sirih' 'Sirih' 'Sirih' 'Sirih'\n",
            " 'Sirih' 'Sirih' 'Sirih' 'Sirih' 'Sirih' 'Sirih' 'Sirih' 'Sirih' 'Sirih'\n",
            " 'Sirih' 'Sirih' 'Sirih' 'Sirih' 'Sirih' 'Sirih' 'Sirih' 'Sirih' 'Sirih'\n",
            " 'Sirih' 'Sirih' 'Sirih' 'Sirih' 'Sirih' 'Sirih' 'Sirih' 'Sirih' 'Sirih'\n",
            " 'Sirih' 'Sirih' 'Sirih' 'Sirih' 'Sirih' 'Sirih' 'Sirih' 'Sirih' 'Sirih'\n",
            " 'Sirih' 'Sirih' 'Sirih' 'Sirih' 'Sirih' 'Sirih']\n"
          ]
        }
      ],
      "source": [
        "print(labels)"
      ]
    },
    {
      "cell_type": "code",
      "execution_count": 7,
      "metadata": {
        "colab": {
          "base_uri": "https://localhost:8080/"
        },
        "id": "W9OZRIzjakD2",
        "outputId": "83e9b688-93e1-4a1c-901f-d9423b566b2e"
      },
      "outputs": [
        {
          "name": "stdout",
          "output_type": "stream",
          "text": [
            "[0 0 0 0 0 0 0 0 0 0 0 0 0 0 0 0 0 0 0 0 0 0 0 0 0 0 0 0 0 0 0 0 0 0 0 0 0\n",
            " 0 0 0 0 0 0 0 0 0 0 0 0 0 1 1 1 1 1 1 1 1 1 1 1 1 1 1 1 1 1 1 1 1 1 1 1 1\n",
            " 1 1 1 1 1 1 1 1 1 1 1 1 1 1 1 1 1 1 1 1 1 1 1 1 1 1]\n"
          ]
        }
      ],
      "source": [
        "# ubah nilai dari labels menjadi binary\n",
        "lb = LabelEncoder()\n",
        "labels = lb.fit_transform(labels)\n",
        "print(labels)"
      ]
    },
    {
      "cell_type": "markdown",
      "metadata": {
        "id": "oUFHFllWakD3"
      },
      "source": [
        "<h3>4. Split Dataset</h3>"
      ]
    },
    {
      "cell_type": "code",
      "execution_count": 8,
      "metadata": {
        "id": "dcWf286TakD3"
      },
      "outputs": [],
      "source": [
        "x_train, x_test, y_train, y_test = train_test_split(data, labels, test_size=0.2, random_state=42)"
      ]
    },
    {
      "cell_type": "code",
      "execution_count": 9,
      "metadata": {
        "colab": {
          "base_uri": "https://localhost:8080/"
        },
        "id": "Pd9x8vI3akD4",
        "outputId": "f7b1c90e-7d52-48a0-dbb0-eebe59ca3b2e"
      },
      "outputs": [
        {
          "name": "stdout",
          "output_type": "stream",
          "text": [
            "Ukuran data train = (80, 32, 32, 3)\n",
            "Ukuran data test = (20, 32, 32, 3)\n"
          ]
        }
      ],
      "source": [
        "print('Ukuran data train =', x_train.shape)\n",
        "print('Ukuran data test =', x_test.shape)"
      ]
    },
    {
      "cell_type": "markdown",
      "metadata": {
        "id": "3rlGM2PHakD5"
      },
      "source": [
        "<h3>5. Build CNN Architecture</h3>"
      ]
    },
    {
      "cell_type": "code",
      "execution_count": 10,
      "metadata": {
        "id": "fXlGn3EwakD5"
      },
      "outputs": [],
      "source": [
        "model = Sequential()\n",
        "# Extracted Feature Layer\n",
        "model.add(InputLayer(input_shape=[32,32,3]))\n",
        "model.add(Conv2D(filters=32, kernel_size=2, strides=1, padding='same', activation='relu'))\n",
        "model.add(MaxPool2D(pool_size=2, padding='same'))\n",
        "model.add(Conv2D(filters=50, kernel_size=2, strides=1, padding='same', activation='relu'))\n",
        "model.add(MaxPool2D(pool_size=2, padding='same'))\n",
        "model.add(Dropout(0.25))\n",
        "model.add(Flatten())\n",
        "# Fully Connected Layer\n",
        "model.add(Dense(512, activation='relu'))\n",
        "model.add(Dropout(0.5))\n",
        "model.add(Dense(1, activation='sigmoid'))"
      ]
    },
    {
      "cell_type": "code",
      "execution_count": 11,
      "metadata": {
        "colab": {
          "base_uri": "https://localhost:8080/"
        },
        "id": "yd8j2khJakD6",
        "outputId": "7ef882a0-3942-4956-dd74-99e16f6ff185"
      },
      "outputs": [
        {
          "name": "stdout",
          "output_type": "stream",
          "text": [
            "Model: \"sequential\"\n",
            "_________________________________________________________________\n",
            " Layer (type)                Output Shape              Param #   \n",
            "=================================================================\n",
            " conv2d (Conv2D)             (None, 32, 32, 32)        416       \n",
            "                                                                 \n",
            " max_pooling2d (MaxPooling2D  (None, 16, 16, 32)       0         \n",
            " )                                                               \n",
            "                                                                 \n",
            " conv2d_1 (Conv2D)           (None, 16, 16, 50)        6450      \n",
            "                                                                 \n",
            " max_pooling2d_1 (MaxPooling  (None, 8, 8, 50)         0         \n",
            " 2D)                                                             \n",
            "                                                                 \n",
            " dropout (Dropout)           (None, 8, 8, 50)          0         \n",
            "                                                                 \n",
            " flatten (Flatten)           (None, 3200)              0         \n",
            "                                                                 \n",
            " dense (Dense)               (None, 512)               1638912   \n",
            "                                                                 \n",
            " dropout_1 (Dropout)         (None, 512)               0         \n",
            "                                                                 \n",
            " dense_1 (Dense)             (None, 1)                 513       \n",
            "                                                                 \n",
            "=================================================================\n",
            "Total params: 1,646,291\n",
            "Trainable params: 1,646,291\n",
            "Non-trainable params: 0\n",
            "_________________________________________________________________\n"
          ]
        }
      ],
      "source": [
        "model.summary()"
      ]
    },
    {
      "cell_type": "code",
      "execution_count": 12,
      "metadata": {
        "id": "so285IVdakD6"
      },
      "outputs": [],
      "source": [
        "# tentukan hyperparameter\n",
        "lr = 0.001\n",
        "max_epochs = 100\n",
        "opt_funct = Adam(learning_rate=lr)"
      ]
    },
    {
      "cell_type": "code",
      "execution_count": 13,
      "metadata": {
        "id": "NPUs0w7EakD6"
      },
      "outputs": [],
      "source": [
        "# compile arsitektur yang telah dibuat\n",
        "model.compile(loss = 'binary_crossentropy', \n",
        "              optimizer = opt_funct, \n",
        "              metrics = ['accuracy'])"
      ]
    },
    {
      "cell_type": "markdown",
      "metadata": {
        "id": "gBHNpLMtakD7"
      },
      "source": [
        "<h3>6. Train Model</h3>"
      ]
    },
    {
      "cell_type": "code",
      "execution_count": 14,
      "metadata": {
        "colab": {
          "base_uri": "https://localhost:8080/"
        },
        "id": "Htl461hwakD7",
        "outputId": "4fc423c9-bd0a-4609-d322-aa0efde22768"
      },
      "outputs": [
        {
          "name": "stdout",
          "output_type": "stream",
          "text": [
            "Epoch 1/100\n",
            "3/3 [==============================] - 1s 164ms/step - loss: 0.7739 - accuracy: 0.5375 - val_loss: 0.6340 - val_accuracy: 0.6000\n",
            "Epoch 2/100\n",
            "3/3 [==============================] - 0s 62ms/step - loss: 0.6159 - accuracy: 0.6625 - val_loss: 0.7385 - val_accuracy: 0.4000\n",
            "Epoch 3/100\n",
            "3/3 [==============================] - 0s 60ms/step - loss: 0.6016 - accuracy: 0.5625 - val_loss: 0.5131 - val_accuracy: 1.0000\n",
            "Epoch 4/100\n",
            "3/3 [==============================] - 0s 57ms/step - loss: 0.5341 - accuracy: 0.8375 - val_loss: 0.4498 - val_accuracy: 0.9500\n",
            "Epoch 5/100\n",
            "3/3 [==============================] - 0s 64ms/step - loss: 0.4416 - accuracy: 0.8875 - val_loss: 0.4655 - val_accuracy: 0.8000\n",
            "Epoch 6/100\n",
            "3/3 [==============================] - 0s 59ms/step - loss: 0.3818 - accuracy: 0.8875 - val_loss: 0.2957 - val_accuracy: 1.0000\n",
            "Epoch 7/100\n",
            "3/3 [==============================] - 0s 56ms/step - loss: 0.3046 - accuracy: 0.9625 - val_loss: 0.2268 - val_accuracy: 1.0000\n",
            "Epoch 8/100\n",
            "3/3 [==============================] - 0s 59ms/step - loss: 0.2295 - accuracy: 0.9875 - val_loss: 0.2016 - val_accuracy: 1.0000\n",
            "Epoch 9/100\n",
            "3/3 [==============================] - 0s 66ms/step - loss: 0.1672 - accuracy: 0.9750 - val_loss: 0.1405 - val_accuracy: 1.0000\n",
            "Epoch 10/100\n",
            "3/3 [==============================] - 0s 56ms/step - loss: 0.1552 - accuracy: 0.9750 - val_loss: 0.1193 - val_accuracy: 1.0000\n",
            "Epoch 11/100\n",
            "3/3 [==============================] - 0s 56ms/step - loss: 0.1288 - accuracy: 0.9875 - val_loss: 0.0842 - val_accuracy: 1.0000\n",
            "Epoch 12/100\n",
            "3/3 [==============================] - 0s 58ms/step - loss: 0.0598 - accuracy: 1.0000 - val_loss: 0.0964 - val_accuracy: 1.0000\n",
            "Epoch 13/100\n",
            "3/3 [==============================] - 0s 56ms/step - loss: 0.1111 - accuracy: 0.9875 - val_loss: 0.0483 - val_accuracy: 1.0000\n",
            "Epoch 14/100\n",
            "3/3 [==============================] - 0s 59ms/step - loss: 0.0692 - accuracy: 1.0000 - val_loss: 0.0772 - val_accuracy: 1.0000\n",
            "Epoch 15/100\n",
            "3/3 [==============================] - 0s 57ms/step - loss: 0.0479 - accuracy: 0.9875 - val_loss: 0.0327 - val_accuracy: 1.0000\n",
            "Epoch 16/100\n",
            "3/3 [==============================] - 0s 57ms/step - loss: 0.0485 - accuracy: 0.9875 - val_loss: 0.0323 - val_accuracy: 1.0000\n",
            "Epoch 17/100\n",
            "3/3 [==============================] - 0s 58ms/step - loss: 0.0331 - accuracy: 1.0000 - val_loss: 0.0290 - val_accuracy: 1.0000\n",
            "Epoch 18/100\n",
            "3/3 [==============================] - 0s 56ms/step - loss: 0.0274 - accuracy: 1.0000 - val_loss: 0.0359 - val_accuracy: 1.0000\n",
            "Epoch 19/100\n",
            "3/3 [==============================] - 0s 63ms/step - loss: 0.0181 - accuracy: 1.0000 - val_loss: 0.0166 - val_accuracy: 1.0000\n",
            "Epoch 20/100\n",
            "3/3 [==============================] - 0s 56ms/step - loss: 0.0109 - accuracy: 1.0000 - val_loss: 0.0109 - val_accuracy: 1.0000\n",
            "Epoch 21/100\n",
            "3/3 [==============================] - 0s 57ms/step - loss: 0.0156 - accuracy: 1.0000 - val_loss: 0.0095 - val_accuracy: 1.0000\n",
            "Epoch 22/100\n",
            "3/3 [==============================] - 0s 58ms/step - loss: 0.0075 - accuracy: 1.0000 - val_loss: 0.0106 - val_accuracy: 1.0000\n",
            "Epoch 23/100\n",
            "3/3 [==============================] - 0s 56ms/step - loss: 0.0069 - accuracy: 1.0000 - val_loss: 0.0130 - val_accuracy: 1.0000\n",
            "Epoch 24/100\n",
            "3/3 [==============================] - 0s 56ms/step - loss: 0.0065 - accuracy: 1.0000 - val_loss: 0.0118 - val_accuracy: 1.0000\n",
            "Epoch 25/100\n",
            "3/3 [==============================] - 0s 59ms/step - loss: 0.0057 - accuracy: 1.0000 - val_loss: 0.0081 - val_accuracy: 1.0000\n",
            "Epoch 26/100\n",
            "3/3 [==============================] - 0s 59ms/step - loss: 0.0041 - accuracy: 1.0000 - val_loss: 0.0061 - val_accuracy: 1.0000\n",
            "Epoch 27/100\n",
            "3/3 [==============================] - 0s 57ms/step - loss: 0.0059 - accuracy: 1.0000 - val_loss: 0.0055 - val_accuracy: 1.0000\n",
            "Epoch 28/100\n",
            "3/3 [==============================] - 0s 56ms/step - loss: 0.0030 - accuracy: 1.0000 - val_loss: 0.0074 - val_accuracy: 1.0000\n",
            "Epoch 29/100\n",
            "3/3 [==============================] - 0s 60ms/step - loss: 0.0035 - accuracy: 1.0000 - val_loss: 0.0089 - val_accuracy: 1.0000\n",
            "Epoch 30/100\n",
            "3/3 [==============================] - 0s 57ms/step - loss: 0.0034 - accuracy: 1.0000 - val_loss: 0.0076 - val_accuracy: 1.0000\n",
            "Epoch 31/100\n",
            "3/3 [==============================] - 0s 61ms/step - loss: 0.0020 - accuracy: 1.0000 - val_loss: 0.0063 - val_accuracy: 1.0000\n",
            "Epoch 32/100\n",
            "3/3 [==============================] - 0s 58ms/step - loss: 0.0054 - accuracy: 1.0000 - val_loss: 0.0043 - val_accuracy: 1.0000\n",
            "Epoch 33/100\n",
            "3/3 [==============================] - 0s 59ms/step - loss: 0.0030 - accuracy: 1.0000 - val_loss: 0.0039 - val_accuracy: 1.0000\n",
            "Epoch 34/100\n",
            "3/3 [==============================] - 0s 55ms/step - loss: 0.0015 - accuracy: 1.0000 - val_loss: 0.0038 - val_accuracy: 1.0000\n",
            "Epoch 35/100\n",
            "3/3 [==============================] - 0s 61ms/step - loss: 0.0028 - accuracy: 1.0000 - val_loss: 0.0036 - val_accuracy: 1.0000\n",
            "Epoch 36/100\n",
            "3/3 [==============================] - 0s 62ms/step - loss: 0.0015 - accuracy: 1.0000 - val_loss: 0.0036 - val_accuracy: 1.0000\n",
            "Epoch 37/100\n",
            "3/3 [==============================] - 0s 63ms/step - loss: 0.0023 - accuracy: 1.0000 - val_loss: 0.0044 - val_accuracy: 1.0000\n",
            "Epoch 38/100\n",
            "3/3 [==============================] - 0s 58ms/step - loss: 0.0022 - accuracy: 1.0000 - val_loss: 0.0062 - val_accuracy: 1.0000\n",
            "Epoch 39/100\n",
            "3/3 [==============================] - 0s 59ms/step - loss: 0.0022 - accuracy: 1.0000 - val_loss: 0.0073 - val_accuracy: 1.0000\n",
            "Epoch 40/100\n",
            "3/3 [==============================] - 0s 57ms/step - loss: 0.0017 - accuracy: 1.0000 - val_loss: 0.0067 - val_accuracy: 1.0000\n",
            "Epoch 41/100\n",
            "3/3 [==============================] - 0s 56ms/step - loss: 0.0019 - accuracy: 1.0000 - val_loss: 0.0050 - val_accuracy: 1.0000\n",
            "Epoch 42/100\n",
            "3/3 [==============================] - 0s 59ms/step - loss: 0.0017 - accuracy: 1.0000 - val_loss: 0.0039 - val_accuracy: 1.0000\n",
            "Epoch 43/100\n",
            "3/3 [==============================] - 0s 63ms/step - loss: 0.0018 - accuracy: 1.0000 - val_loss: 0.0033 - val_accuracy: 1.0000\n",
            "Epoch 44/100\n",
            "3/3 [==============================] - 0s 57ms/step - loss: 0.0021 - accuracy: 1.0000 - val_loss: 0.0034 - val_accuracy: 1.0000\n",
            "Epoch 45/100\n",
            "3/3 [==============================] - 0s 57ms/step - loss: 0.0014 - accuracy: 1.0000 - val_loss: 0.0041 - val_accuracy: 1.0000\n",
            "Epoch 46/100\n",
            "3/3 [==============================] - 0s 57ms/step - loss: 0.0021 - accuracy: 1.0000 - val_loss: 0.0054 - val_accuracy: 1.0000\n",
            "Epoch 47/100\n",
            "3/3 [==============================] - 0s 63ms/step - loss: 6.1649e-04 - accuracy: 1.0000 - val_loss: 0.0066 - val_accuracy: 1.0000\n",
            "Epoch 48/100\n",
            "3/3 [==============================] - 0s 57ms/step - loss: 0.0012 - accuracy: 1.0000 - val_loss: 0.0064 - val_accuracy: 1.0000\n",
            "Epoch 49/100\n",
            "3/3 [==============================] - 0s 59ms/step - loss: 9.0689e-04 - accuracy: 1.0000 - val_loss: 0.0052 - val_accuracy: 1.0000\n",
            "Epoch 50/100\n",
            "3/3 [==============================] - 0s 61ms/step - loss: 0.0014 - accuracy: 1.0000 - val_loss: 0.0044 - val_accuracy: 1.0000\n",
            "Epoch 51/100\n",
            "3/3 [==============================] - 0s 55ms/step - loss: 5.0729e-04 - accuracy: 1.0000 - val_loss: 0.0036 - val_accuracy: 1.0000\n",
            "Epoch 52/100\n",
            "3/3 [==============================] - 0s 58ms/step - loss: 0.0016 - accuracy: 1.0000 - val_loss: 0.0039 - val_accuracy: 1.0000\n",
            "Epoch 53/100\n",
            "3/3 [==============================] - 0s 59ms/step - loss: 8.8595e-04 - accuracy: 1.0000 - val_loss: 0.0036 - val_accuracy: 1.0000\n",
            "Epoch 54/100\n",
            "3/3 [==============================] - 0s 59ms/step - loss: 9.2100e-04 - accuracy: 1.0000 - val_loss: 0.0030 - val_accuracy: 1.0000\n",
            "Epoch 55/100\n",
            "3/3 [==============================] - 0s 57ms/step - loss: 8.2083e-04 - accuracy: 1.0000 - val_loss: 0.0024 - val_accuracy: 1.0000\n",
            "Epoch 56/100\n",
            "3/3 [==============================] - 0s 56ms/step - loss: 0.0011 - accuracy: 1.0000 - val_loss: 0.0023 - val_accuracy: 1.0000\n",
            "Epoch 57/100\n",
            "3/3 [==============================] - 0s 62ms/step - loss: 7.7547e-04 - accuracy: 1.0000 - val_loss: 0.0027 - val_accuracy: 1.0000\n",
            "Epoch 58/100\n",
            "3/3 [==============================] - 0s 59ms/step - loss: 6.1974e-04 - accuracy: 1.0000 - val_loss: 0.0033 - val_accuracy: 1.0000\n",
            "Epoch 59/100\n",
            "3/3 [==============================] - 0s 57ms/step - loss: 8.3896e-04 - accuracy: 1.0000 - val_loss: 0.0042 - val_accuracy: 1.0000\n",
            "Epoch 60/100\n",
            "3/3 [==============================] - 0s 62ms/step - loss: 9.0202e-04 - accuracy: 1.0000 - val_loss: 0.0045 - val_accuracy: 1.0000\n",
            "Epoch 61/100\n",
            "3/3 [==============================] - 0s 56ms/step - loss: 0.0010 - accuracy: 1.0000 - val_loss: 0.0038 - val_accuracy: 1.0000\n",
            "Epoch 62/100\n",
            "3/3 [==============================] - 0s 58ms/step - loss: 0.0011 - accuracy: 1.0000 - val_loss: 0.0029 - val_accuracy: 1.0000\n",
            "Epoch 63/100\n",
            "3/3 [==============================] - 0s 59ms/step - loss: 9.0358e-04 - accuracy: 1.0000 - val_loss: 0.0023 - val_accuracy: 1.0000\n",
            "Epoch 64/100\n",
            "3/3 [==============================] - 0s 57ms/step - loss: 3.4443e-04 - accuracy: 1.0000 - val_loss: 0.0021 - val_accuracy: 1.0000\n",
            "Epoch 65/100\n",
            "3/3 [==============================] - 0s 56ms/step - loss: 5.4860e-04 - accuracy: 1.0000 - val_loss: 0.0021 - val_accuracy: 1.0000\n",
            "Epoch 66/100\n",
            "3/3 [==============================] - 0s 61ms/step - loss: 0.0011 - accuracy: 1.0000 - val_loss: 0.0021 - val_accuracy: 1.0000\n",
            "Epoch 67/100\n",
            "3/3 [==============================] - 0s 59ms/step - loss: 4.4753e-04 - accuracy: 1.0000 - val_loss: 0.0026 - val_accuracy: 1.0000\n",
            "Epoch 68/100\n",
            "3/3 [==============================] - 0s 57ms/step - loss: 4.5975e-04 - accuracy: 1.0000 - val_loss: 0.0031 - val_accuracy: 1.0000\n",
            "Epoch 69/100\n",
            "3/3 [==============================] - 0s 57ms/step - loss: 4.0733e-04 - accuracy: 1.0000 - val_loss: 0.0034 - val_accuracy: 1.0000\n",
            "Epoch 70/100\n",
            "3/3 [==============================] - 0s 64ms/step - loss: 9.3102e-04 - accuracy: 1.0000 - val_loss: 0.0031 - val_accuracy: 1.0000\n",
            "Epoch 71/100\n",
            "3/3 [==============================] - 0s 57ms/step - loss: 3.6434e-04 - accuracy: 1.0000 - val_loss: 0.0027 - val_accuracy: 1.0000\n",
            "Epoch 72/100\n",
            "3/3 [==============================] - 0s 58ms/step - loss: 4.5303e-04 - accuracy: 1.0000 - val_loss: 0.0024 - val_accuracy: 1.0000\n",
            "Epoch 73/100\n",
            "3/3 [==============================] - 0s 56ms/step - loss: 3.0095e-04 - accuracy: 1.0000 - val_loss: 0.0024 - val_accuracy: 1.0000\n",
            "Epoch 74/100\n",
            "3/3 [==============================] - 0s 63ms/step - loss: 5.8405e-04 - accuracy: 1.0000 - val_loss: 0.0026 - val_accuracy: 1.0000\n",
            "Epoch 75/100\n",
            "3/3 [==============================] - 0s 56ms/step - loss: 0.0019 - accuracy: 1.0000 - val_loss: 0.0022 - val_accuracy: 1.0000\n",
            "Epoch 76/100\n",
            "3/3 [==============================] - 0s 57ms/step - loss: 4.0008e-04 - accuracy: 1.0000 - val_loss: 0.0027 - val_accuracy: 1.0000\n",
            "Epoch 77/100\n",
            "3/3 [==============================] - 0s 64ms/step - loss: 2.8160e-04 - accuracy: 1.0000 - val_loss: 0.0031 - val_accuracy: 1.0000\n",
            "Epoch 78/100\n",
            "3/3 [==============================] - 0s 57ms/step - loss: 3.0391e-04 - accuracy: 1.0000 - val_loss: 0.0035 - val_accuracy: 1.0000\n",
            "Epoch 79/100\n",
            "3/3 [==============================] - 0s 61ms/step - loss: 3.7618e-04 - accuracy: 1.0000 - val_loss: 0.0037 - val_accuracy: 1.0000\n",
            "Epoch 80/100\n",
            "3/3 [==============================] - 0s 56ms/step - loss: 2.8120e-04 - accuracy: 1.0000 - val_loss: 0.0036 - val_accuracy: 1.0000\n",
            "Epoch 81/100\n",
            "3/3 [==============================] - 0s 58ms/step - loss: 5.0716e-04 - accuracy: 1.0000 - val_loss: 0.0035 - val_accuracy: 1.0000\n",
            "Epoch 82/100\n",
            "3/3 [==============================] - 0s 58ms/step - loss: 4.1303e-04 - accuracy: 1.0000 - val_loss: 0.0033 - val_accuracy: 1.0000\n",
            "Epoch 83/100\n",
            "3/3 [==============================] - 0s 63ms/step - loss: 2.7973e-04 - accuracy: 1.0000 - val_loss: 0.0030 - val_accuracy: 1.0000\n",
            "Epoch 84/100\n",
            "3/3 [==============================] - 0s 59ms/step - loss: 5.3650e-04 - accuracy: 1.0000 - val_loss: 0.0027 - val_accuracy: 1.0000\n",
            "Epoch 85/100\n",
            "3/3 [==============================] - 0s 57ms/step - loss: 4.0864e-04 - accuracy: 1.0000 - val_loss: 0.0025 - val_accuracy: 1.0000\n",
            "Epoch 86/100\n",
            "3/3 [==============================] - 0s 57ms/step - loss: 2.7647e-04 - accuracy: 1.0000 - val_loss: 0.0023 - val_accuracy: 1.0000\n",
            "Epoch 87/100\n",
            "3/3 [==============================] - 0s 62ms/step - loss: 4.0040e-04 - accuracy: 1.0000 - val_loss: 0.0023 - val_accuracy: 1.0000\n",
            "Epoch 88/100\n",
            "3/3 [==============================] - 0s 57ms/step - loss: 5.7173e-04 - accuracy: 1.0000 - val_loss: 0.0023 - val_accuracy: 1.0000\n",
            "Epoch 89/100\n",
            "3/3 [==============================] - 0s 61ms/step - loss: 3.3869e-04 - accuracy: 1.0000 - val_loss: 0.0020 - val_accuracy: 1.0000\n",
            "Epoch 90/100\n",
            "3/3 [==============================] - 0s 59ms/step - loss: 4.6288e-04 - accuracy: 1.0000 - val_loss: 0.0019 - val_accuracy: 1.0000\n",
            "Epoch 91/100\n",
            "3/3 [==============================] - 0s 60ms/step - loss: 5.5611e-04 - accuracy: 1.0000 - val_loss: 0.0021 - val_accuracy: 1.0000\n",
            "Epoch 92/100\n",
            "3/3 [==============================] - 0s 57ms/step - loss: 5.5154e-04 - accuracy: 1.0000 - val_loss: 0.0022 - val_accuracy: 1.0000\n",
            "Epoch 93/100\n",
            "3/3 [==============================] - 0s 59ms/step - loss: 2.8879e-04 - accuracy: 1.0000 - val_loss: 0.0026 - val_accuracy: 1.0000\n",
            "Epoch 94/100\n",
            "3/3 [==============================] - 0s 63ms/step - loss: 4.7970e-04 - accuracy: 1.0000 - val_loss: 0.0028 - val_accuracy: 1.0000\n",
            "Epoch 95/100\n",
            "3/3 [==============================] - 0s 57ms/step - loss: 2.9233e-04 - accuracy: 1.0000 - val_loss: 0.0028 - val_accuracy: 1.0000\n",
            "Epoch 96/100\n",
            "3/3 [==============================] - 0s 59ms/step - loss: 8.0935e-04 - accuracy: 1.0000 - val_loss: 0.0020 - val_accuracy: 1.0000\n",
            "Epoch 97/100\n",
            "3/3 [==============================] - 0s 58ms/step - loss: 3.3273e-04 - accuracy: 1.0000 - val_loss: 0.0017 - val_accuracy: 1.0000\n",
            "Epoch 98/100\n",
            "3/3 [==============================] - 0s 60ms/step - loss: 2.9114e-04 - accuracy: 1.0000 - val_loss: 0.0015 - val_accuracy: 1.0000\n",
            "Epoch 99/100\n",
            "3/3 [==============================] - 0s 60ms/step - loss: 2.7348e-04 - accuracy: 1.0000 - val_loss: 0.0014 - val_accuracy: 1.0000\n",
            "Epoch 100/100\n",
            "3/3 [==============================] - 0s 58ms/step - loss: 6.0465e-04 - accuracy: 1.0000 - val_loss: 0.0016 - val_accuracy: 1.0000\n"
          ]
        }
      ],
      "source": [
        "H = model.fit(x_train, y_train, validation_data=(x_test, y_test), \n",
        "          epochs=max_epochs, batch_size=32)"
      ]
    },
    {
      "cell_type": "code",
      "execution_count": 15,
      "metadata": {
        "colab": {
          "base_uri": "https://localhost:8080/",
          "height": 283
        },
        "id": "GdzP3P4nakD8",
        "outputId": "74f76502-2140-44a7-b4ef-4eff500cdf6e"
      },
      "outputs": [
        {
          "data": {
            "image/png": "[encoded data removed]",
            "text/plain": [
              "<Figure size 432x288 with 1 Axes>"
            ]
          },
          "metadata": {},
          "output_type": "display_data"
        }
      ],
      "source": [
        "N = np.arange(0, max_epochs)\n",
        "plt.style.use(\"ggplot\")\n",
        "plt.figure()\n",
        "plt.plot(N, H.history[\"loss\"], label=\"train_loss\")\n",
        "plt.plot(N, H.history[\"val_loss\"], label=\"val_loss\")\n",
        "#plt.plot(N, H.history[\"accuracy\"], label=\"train_acc\")\n",
        "#plt.plot(N, H.history[\"val_accuracy\"], label=\"val_acc\")\n",
        "plt.xlabel(\"Epoch #\")\n",
        "plt.legend()\n",
        "plt.show()"
      ]
    },
    {
      "cell_type": "markdown",
      "metadata": {
        "id": "eARkwmiIakD9"
      },
      "source": [
        "<h3>7. Evaluate the Model</h3>"
      ]
    },
    {
      "cell_type": "code",
      "execution_count": 16,
      "metadata": {
        "colab": {
          "base_uri": "https://localhost:8080/"
        },
        "id": "HivB_kW8akD9",
        "outputId": "46a27ceb-f0b9-4499-bc94-0d403a68c000"
      },
      "outputs": [
        {
          "name": "stdout",
          "output_type": "stream",
          "text": [
            "              precision    recall  f1-score   support\n",
            "\n",
            "     Seledri       1.00      1.00      1.00        12\n",
            "       Sirih       1.00      1.00      1.00         8\n",
            "\n",
            "    accuracy                           1.00        20\n",
            "   macro avg       1.00      1.00      1.00        20\n",
            "weighted avg       1.00      1.00      1.00        20\n",
            "\n"
          ]
        }
      ],
      "source": [
        "# menghitung nilai akurasi model terhadap data test\n",
        "predictions = model.predict(x_test, batch_size=32)\n",
        "target = (predictions > 0.5).astype(np.int)\n",
        "print(classification_report(y_test, target, target_names=label_list))"
      ]
    },
    {
      "cell_type": "code",
      "execution_count": 27,
      "metadata": {
        "colab": {
          "base_uri": "https://localhost:8080/"
        },
        "id": "21eZcXEVakD-",
        "outputId": "7b7f2def-25c8-4b63-9332-c94d34cb3a45"
      },
      "outputs": [
        {
          "name": "stdout",
          "output_type": "stream",
          "text": [
            "[[0.94888914]]\n"
          ]
        }
      ],
      "source": [
        "# uji model menggunakan image lain\n",
        "queryPath = imagePaths+'images.jpg'\n",
        "query = cv2.imread(queryPath)\n",
        "output = query.copy()\n",
        "query = cv2.resize(query, (32, 32))\n",
        "q = []\n",
        "q.append(query)\n",
        "q = np.array(q, dtype='float') / 255.0\n",
        "\n",
        "q_pred = model.predict(q)\n",
        "print(q_pred)"
      ]
    },
    {
      "cell_type": "code",
      "execution_count": 28,
      "metadata": {
        "colab": {
          "base_uri": "https://localhost:8080/",
          "height": 176
        },
        "id": "YaUotRXxakD_",
        "outputId": "66a87316-29b1-46f2-d25a-c3f7306e59a3"
      },
      "outputs": [
        {
          "data": {
            "image/png": "[encoded data removed]",
            "text/plain": [
              "<PIL.Image.Image image mode=RGB size=318x159 at 0x7F3F6DC2F890>"
            ]
          },
          "metadata": {},
          "output_type": "display_data"
        }
      ],
      "source": [
        "if q_pred<=0.5 :\n",
        "    target = \"Seledri\"\n",
        "else :\n",
        "    target = \"Sirih\"\n",
        "text = \"{}\".format(target)\n",
        "cv2.putText(output, text, (10, 30), cv2.FONT_HERSHEY_SIMPLEX, 0.7, (0, 0, 255), 2)\n",
        " \n",
        "# menampilkan output image\n",
        "cv2_imshow(output)\n"
      ]
    },
    {
      "cell_type": "code",
      "execution_count": 18,
      "metadata": {
        "id": "mn0LY8f8akD_"
      },
      "outputs": [],
      "source": []
    }
  ],
  "metadata": {
    "colab": {
      "collapsed_sections": [],
      "name": "Image Classification using CNN.ipynb",
      "provenance": []
    },
    "kernelspec": {
      "display_name": "Python 3",
      "language": "python",
      "name": "python3"
    },
    "language_info": {
      "codemirror_mode": {
        "name": "ipython",
        "version": 3
      },
      "file_extension": ".py",
      "mimetype": "text/x-python",
      "name": "python",
      "nbconvert_exporter": "python",
      "pygments_lexer": "ipython3",
      "version": "3.8.5"
    }
  },
  "nbformat": 4,
  "nbformat_minor": 0
}
